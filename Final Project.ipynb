{
 "cells": [
  {
   "cell_type": "code",
   "execution_count": 137,
   "id": "31d26344",
   "metadata": {},
   "outputs": [],
   "source": [
    "#Importing neccessary libraries \n",
    "\n",
    "import pandas as pd\n",
    "import matplotlib.pyplot as plt\n",
    "from sklearn import linear_model\n",
    "\n",
    "from sklearn.metrics import mean_squared_error, r2_score\n",
    "\n",
    "from sklearn.neighbors import KNeighborsRegressor\n",
    "from sklearn.neural_network import MLPRegressor\n",
    "from sklearn import preprocessing\n",
    "\n",
    "import math\n",
    "import numpy as np"
   ]
  },
  {
   "cell_type": "markdown",
   "id": "14d16a69",
   "metadata": {},
   "source": [
    "In this final project, I will be using a dataset that is based on video game info. To find trends, clean data and perform advanced regression models on the data.\n",
    "\n",
    "The dataset can be found at: https://www.kaggle.com/datasets/ibriiee/video-games-sales-dataset-2022-updated-extra-feat "
   ]
  },
  {
   "cell_type": "code",
   "execution_count": 3,
   "id": "0418b9ff",
   "metadata": {
    "scrolled": true
   },
   "outputs": [
    {
     "data": {
      "text/html": [
       "<div>\n",
       "<style scoped>\n",
       "    .dataframe tbody tr th:only-of-type {\n",
       "        vertical-align: middle;\n",
       "    }\n",
       "\n",
       "    .dataframe tbody tr th {\n",
       "        vertical-align: top;\n",
       "    }\n",
       "\n",
       "    .dataframe thead th {\n",
       "        text-align: right;\n",
       "    }\n",
       "</style>\n",
       "<table border=\"1\" class=\"dataframe\">\n",
       "  <thead>\n",
       "    <tr style=\"text-align: right;\">\n",
       "      <th></th>\n",
       "      <th>Name</th>\n",
       "      <th>Platform</th>\n",
       "      <th>Year_of_Release</th>\n",
       "      <th>Genre</th>\n",
       "      <th>Publisher</th>\n",
       "      <th>NA_Sales</th>\n",
       "      <th>EU_Sales</th>\n",
       "      <th>JP_Sales</th>\n",
       "      <th>Other_Sales</th>\n",
       "      <th>Global_Sales</th>\n",
       "      <th>Critic_Score</th>\n",
       "      <th>Critic_Count</th>\n",
       "      <th>User_Score</th>\n",
       "      <th>User_Count</th>\n",
       "      <th>Developer</th>\n",
       "      <th>Rating</th>\n",
       "    </tr>\n",
       "  </thead>\n",
       "  <tbody>\n",
       "    <tr>\n",
       "      <th>0</th>\n",
       "      <td>Wii Sports</td>\n",
       "      <td>Wii</td>\n",
       "      <td>2006.0</td>\n",
       "      <td>Sports</td>\n",
       "      <td>Nintendo</td>\n",
       "      <td>41.36</td>\n",
       "      <td>28.96</td>\n",
       "      <td>3.77</td>\n",
       "      <td>8.45</td>\n",
       "      <td>82.53</td>\n",
       "      <td>76.0</td>\n",
       "      <td>51.0</td>\n",
       "      <td>8</td>\n",
       "      <td>322.0</td>\n",
       "      <td>Nintendo</td>\n",
       "      <td>E</td>\n",
       "    </tr>\n",
       "    <tr>\n",
       "      <th>1</th>\n",
       "      <td>Super Mario Bros.</td>\n",
       "      <td>NES</td>\n",
       "      <td>1985.0</td>\n",
       "      <td>Platform</td>\n",
       "      <td>Nintendo</td>\n",
       "      <td>29.08</td>\n",
       "      <td>3.58</td>\n",
       "      <td>6.81</td>\n",
       "      <td>0.77</td>\n",
       "      <td>40.24</td>\n",
       "      <td>NaN</td>\n",
       "      <td>NaN</td>\n",
       "      <td>NaN</td>\n",
       "      <td>NaN</td>\n",
       "      <td>NaN</td>\n",
       "      <td>NaN</td>\n",
       "    </tr>\n",
       "    <tr>\n",
       "      <th>2</th>\n",
       "      <td>Mario Kart Wii</td>\n",
       "      <td>Wii</td>\n",
       "      <td>2008.0</td>\n",
       "      <td>Racing</td>\n",
       "      <td>Nintendo</td>\n",
       "      <td>15.68</td>\n",
       "      <td>12.76</td>\n",
       "      <td>3.79</td>\n",
       "      <td>3.29</td>\n",
       "      <td>35.52</td>\n",
       "      <td>82.0</td>\n",
       "      <td>73.0</td>\n",
       "      <td>8.3</td>\n",
       "      <td>709.0</td>\n",
       "      <td>Nintendo</td>\n",
       "      <td>E</td>\n",
       "    </tr>\n",
       "    <tr>\n",
       "      <th>3</th>\n",
       "      <td>Wii Sports Resort</td>\n",
       "      <td>Wii</td>\n",
       "      <td>2009.0</td>\n",
       "      <td>Sports</td>\n",
       "      <td>Nintendo</td>\n",
       "      <td>15.61</td>\n",
       "      <td>10.93</td>\n",
       "      <td>3.28</td>\n",
       "      <td>2.95</td>\n",
       "      <td>32.77</td>\n",
       "      <td>80.0</td>\n",
       "      <td>73.0</td>\n",
       "      <td>8</td>\n",
       "      <td>192.0</td>\n",
       "      <td>Nintendo</td>\n",
       "      <td>E</td>\n",
       "    </tr>\n",
       "    <tr>\n",
       "      <th>4</th>\n",
       "      <td>Pokemon Red/Pokemon Blue</td>\n",
       "      <td>GB</td>\n",
       "      <td>1996.0</td>\n",
       "      <td>Role-Playing</td>\n",
       "      <td>Nintendo</td>\n",
       "      <td>11.27</td>\n",
       "      <td>8.89</td>\n",
       "      <td>10.22</td>\n",
       "      <td>1.00</td>\n",
       "      <td>31.37</td>\n",
       "      <td>NaN</td>\n",
       "      <td>NaN</td>\n",
       "      <td>NaN</td>\n",
       "      <td>NaN</td>\n",
       "      <td>NaN</td>\n",
       "      <td>NaN</td>\n",
       "    </tr>\n",
       "  </tbody>\n",
       "</table>\n",
       "</div>"
      ],
      "text/plain": [
       "                       Name Platform  Year_of_Release         Genre Publisher  \\\n",
       "0                Wii Sports      Wii           2006.0        Sports  Nintendo   \n",
       "1         Super Mario Bros.      NES           1985.0      Platform  Nintendo   \n",
       "2            Mario Kart Wii      Wii           2008.0        Racing  Nintendo   \n",
       "3         Wii Sports Resort      Wii           2009.0        Sports  Nintendo   \n",
       "4  Pokemon Red/Pokemon Blue       GB           1996.0  Role-Playing  Nintendo   \n",
       "\n",
       "   NA_Sales  EU_Sales  JP_Sales  Other_Sales  Global_Sales  Critic_Score  \\\n",
       "0     41.36     28.96      3.77         8.45         82.53          76.0   \n",
       "1     29.08      3.58      6.81         0.77         40.24           NaN   \n",
       "2     15.68     12.76      3.79         3.29         35.52          82.0   \n",
       "3     15.61     10.93      3.28         2.95         32.77          80.0   \n",
       "4     11.27      8.89     10.22         1.00         31.37           NaN   \n",
       "\n",
       "   Critic_Count User_Score  User_Count Developer Rating  \n",
       "0          51.0          8       322.0  Nintendo      E  \n",
       "1           NaN        NaN         NaN       NaN    NaN  \n",
       "2          73.0        8.3       709.0  Nintendo      E  \n",
       "3          73.0          8       192.0  Nintendo      E  \n",
       "4           NaN        NaN         NaN       NaN    NaN  "
      ]
     },
     "execution_count": 3,
     "metadata": {},
     "output_type": "execute_result"
    }
   ],
   "source": [
    "df = pd.read_csv('Video_Games.csv')\n",
    "df.head()"
   ]
  },
  {
   "cell_type": "markdown",
   "id": "a36496ff",
   "metadata": {},
   "source": [
    "For the first part of this project we will visualize the data based on different metrics and draw some conclusions."
   ]
  },
  {
   "cell_type": "code",
   "execution_count": 5,
   "id": "7be78bbd",
   "metadata": {},
   "outputs": [
    {
     "name": "stdout",
     "output_type": "stream",
     "text": [
      "          Year_of_Release  NA_Sales  EU_Sales  JP_Sales  Other_Sales  \\\n",
      "Platform                                                               \n",
      "2600          1982.137931  0.681203  0.041128  0.000000     0.006842   \n",
      "3DO           1994.666667  0.000000  0.000000  0.033333     0.000000   \n",
      "3DS           2013.126953  0.160558  0.118231  0.193596     0.025692   \n",
      "DC            1999.942308  0.104423  0.032500  0.164615     0.005192   \n",
      "DS            2008.190858  0.177821  0.087774  0.081585     0.027546   \n",
      "GB            1995.958763  1.166531  0.487959  0.868571     0.083673   \n",
      "GBA           2003.210851  0.228151  0.091545  0.057579     0.009404   \n",
      "GC            2003.400369  0.240036  0.069622  0.038813     0.009317   \n",
      "GEN           1993.034483  0.725862  0.208621  0.093103     0.033448   \n",
      "GG            1992.000000  0.000000  0.000000  0.040000     0.000000   \n",
      "N64           1998.531646  0.435799  0.128715  0.107273     0.013730   \n",
      "NES           1987.153061  1.285102  0.215816  1.006633     0.054184   \n",
      "NG            1994.500000  0.000000  0.000000  0.120000     0.000000   \n",
      "PC            2008.914316  0.097053  0.146242  0.000175     0.022977   \n",
      "PCFX          1996.000000  0.000000  0.000000  0.030000     0.000000   \n",
      "PS            1998.005882  0.281136  0.178454  0.116809     0.034177   \n",
      "PS2           2004.583921  0.270171  0.157006  0.064415     0.089514   \n",
      "PS3           2010.840735  0.295635  0.248152  0.060248     0.101938   \n",
      "PS4           2015.150127  0.276692  0.359008  0.040712     0.123028   \n",
      "PSP           2008.731769  0.090298  0.055153  0.063507     0.034260   \n",
      "PSV           2014.146172  0.029120  0.030370  0.050764     0.014954   \n",
      "SAT           1996.028902  0.004162  0.003121  0.186474     0.000405   \n",
      "SCD           1993.833333  0.166667  0.060000  0.075000     0.008333   \n",
      "SNES          1993.845188  0.256192  0.079665  0.487657     0.013473   \n",
      "TG16          1995.000000  0.000000  0.000000  0.080000     0.000000   \n",
      "WS            2000.000000  0.000000  0.000000  0.236667     0.000000   \n",
      "Wii           2008.966563  0.376439  0.198644  0.052523     0.059902   \n",
      "WiiU          2013.659864  0.259184  0.170952  0.088503     0.040476   \n",
      "X360          2009.880682  0.477393  0.214548  0.009849     0.067956   \n",
      "XB            2003.636364  0.226566  0.073968  0.001675     0.010583   \n",
      "XOne          2014.951417  0.377004  0.208866  0.001377     0.057773   \n",
      "\n",
      "          Global_Sales  Critic_Score  Critic_Count  User_Count  \n",
      "Platform                                                        \n",
      "2600          0.729925           NaN           NaN         NaN  \n",
      "3DO           0.033333           NaN           NaN         NaN  \n",
      "3DS           0.498250     67.101190     30.172619   92.189655  \n",
      "DC            0.307115     87.357143     17.642857   84.500000  \n",
      "DS            0.375046     63.761506     18.638773   30.550388  \n",
      "GB            2.606633           NaN           NaN         NaN  \n",
      "GBA           0.387470     67.372146     12.728311   22.964706  \n",
      "GC            0.358561     69.488839     19.698661   35.748634  \n",
      "GEN           1.061379           NaN           NaN         NaN  \n",
      "GG            0.040000           NaN           NaN         NaN  \n",
      "N64           0.686144           NaN           NaN         NaN  \n",
      "NES           2.561939           NaN           NaN         NaN  \n",
      "NG            0.120000           NaN           NaN         NaN  \n",
      "PC            0.267248     75.928671     27.920280  615.300000  \n",
      "PCFX          0.030000           NaN           NaN         NaN  \n",
      "PS            0.610426     71.515000     10.415000   73.851852  \n",
      "PS2           0.581046     68.727273     23.526965   43.663175  \n",
      "PS3           0.705808     70.382927     33.901220  205.891676  \n",
      "PS4           0.799567     72.091270     38.968254  518.155642  \n",
      "PSP           0.243424     67.424242     23.398268   30.422803  \n",
      "PSV           0.125278     70.791667     27.066667   96.335664  \n",
      "SAT           0.194162           NaN           NaN         NaN  \n",
      "SCD           0.311667           NaN           NaN         NaN  \n",
      "SNES          0.837029           NaN           NaN         NaN  \n",
      "TG16          0.080000           NaN           NaN         NaN  \n",
      "WS            0.236667           NaN           NaN         NaN  \n",
      "Wii           0.687977     62.823932     21.247863   53.123214  \n",
      "WiiU          0.558912     70.733333     32.211111  223.810000  \n",
      "X360          0.769913     68.616812     42.121179  187.156315  \n",
      "XB            0.313422     69.859310     26.371034   24.259386  \n",
      "XOne          0.645506     73.325444     24.414201  285.769231  \n"
     ]
    }
   ],
   "source": [
    "console = df.groupby('Platform')\n",
    "avg = console.mean()\n",
    "\n",
    "print(avg)"
   ]
  },
  {
   "cell_type": "code",
   "execution_count": 15,
   "id": "d422f785",
   "metadata": {},
   "outputs": [
    {
     "data": {
      "text/plain": [
       "<Figure size 640x480 with 0 Axes>"
      ]
     },
     "metadata": {},
     "output_type": "display_data"
    },
    {
     "data": {
      "image/png": "[encoded data removed]",
      "text/plain": [
       "<Figure size 640x480 with 1 Axes>"
      ]
     },
     "metadata": {},
     "output_type": "display_data"
    }
   ],
   "source": [
    "plt.figure()\n",
    "avg[['NA_Sales','EU_Sales','JP_Sales']].plot(kind='bar')\n",
    "plt.show()"
   ]
  },
  {
   "cell_type": "markdown",
   "id": "e2daf169",
   "metadata": {},
   "source": [
    "From this bar plot we see that the gameboy,nes and xbox 360 sold the most in North America.\n",
    "\n",
    "SNES and Wii sold the most in Japan.\n",
    "\n",
    "The only console that Europe out sold Japan or North America was the PS4"
   ]
  },
  {
   "cell_type": "code",
   "execution_count": 17,
   "id": "ed2c7e24",
   "metadata": {},
   "outputs": [
    {
     "data": {
      "text/plain": [
       "<Figure size 640x480 with 0 Axes>"
      ]
     },
     "metadata": {},
     "output_type": "display_data"
    },
    {
     "data": {
      "image/png": "[encoded data removed]",
      "text/plain": [
       "<Figure size 640x480 with 1 Axes>"
      ]
     },
     "metadata": {},
     "output_type": "display_data"
    }
   ],
   "source": [
    "plt.figure()\n",
    "df.plot.scatter('Year_of_Release', 'NA_Sales')\n",
    "plt.xlabel('Year of Release')\n",
    "plt.ylabel('Na Sales')\n",
    "plt.show()"
   ]
  },
  {
   "cell_type": "code",
   "execution_count": 18,
   "id": "20e502eb",
   "metadata": {},
   "outputs": [
    {
     "data": {
      "text/plain": [
       "<Figure size 640x480 with 0 Axes>"
      ]
     },
     "metadata": {},
     "output_type": "display_data"
    },
    {
     "data": {
      "image/png": "[encoded data removed]",
      "text/plain": [
       "<Figure size 640x480 with 1 Axes>"
      ]
     },
     "metadata": {},
     "output_type": "display_data"
    }
   ],
   "source": [
    "plt.figure()\n",
    "df.plot.scatter('Year_of_Release', 'JP_Sales')\n",
    "plt.xlabel('Year_of_Release')\n",
    "plt.ylabel('JP_Sales')\n",
    "plt.show()"
   ]
  },
  {
   "cell_type": "code",
   "execution_count": 19,
   "id": "02a27533",
   "metadata": {},
   "outputs": [
    {
     "data": {
      "text/plain": [
       "<Figure size 640x480 with 0 Axes>"
      ]
     },
     "metadata": {},
     "output_type": "display_data"
    },
    {
     "data": {
      "image/png": "[encoded data removed]",
      "text/plain": [
       "<Figure size 640x480 with 1 Axes>"
      ]
     },
     "metadata": {},
     "output_type": "display_data"
    }
   ],
   "source": [
    "plt.figure()\n",
    "df.plot.scatter('Year_of_Release', 'EU_Sales')\n",
    "plt.xlabel('Year_of_Release')\n",
    "plt.ylabel('EU_Sales')\n",
    "plt.show()"
   ]
  },
  {
   "cell_type": "markdown",
   "id": "cc08e013",
   "metadata": {},
   "source": [
    "The 3 scatter plots show the range of sales of games from 1980- 2020. \n",
    "\n",
    "There's a trend among all 3 regions where the sales of games is increasing. \n"
   ]
  },
  {
   "cell_type": "code",
   "execution_count": 4,
   "id": "f5b8584e",
   "metadata": {},
   "outputs": [
    {
     "data": {
      "text/html": [
       "<div>\n",
       "<style scoped>\n",
       "    .dataframe tbody tr th:only-of-type {\n",
       "        vertical-align: middle;\n",
       "    }\n",
       "\n",
       "    .dataframe tbody tr th {\n",
       "        vertical-align: top;\n",
       "    }\n",
       "\n",
       "    .dataframe thead th {\n",
       "        text-align: right;\n",
       "    }\n",
       "</style>\n",
       "<table border=\"1\" class=\"dataframe\">\n",
       "  <thead>\n",
       "    <tr style=\"text-align: right;\">\n",
       "      <th></th>\n",
       "      <th>Name</th>\n",
       "      <th>Platform</th>\n",
       "      <th>Year_of_Release</th>\n",
       "      <th>Genre</th>\n",
       "      <th>Publisher</th>\n",
       "      <th>NA_Sales</th>\n",
       "      <th>EU_Sales</th>\n",
       "      <th>JP_Sales</th>\n",
       "      <th>Other_Sales</th>\n",
       "      <th>Global_Sales</th>\n",
       "      <th>Critic_Score</th>\n",
       "      <th>Critic_Count</th>\n",
       "      <th>User_Score</th>\n",
       "      <th>User_Count</th>\n",
       "      <th>Developer</th>\n",
       "      <th>Rating</th>\n",
       "    </tr>\n",
       "  </thead>\n",
       "  <tbody>\n",
       "    <tr>\n",
       "      <th>0</th>\n",
       "      <td>Wii Sports</td>\n",
       "      <td>Wii</td>\n",
       "      <td>2006.0</td>\n",
       "      <td>Sports</td>\n",
       "      <td>Nintendo</td>\n",
       "      <td>41.36</td>\n",
       "      <td>28.96</td>\n",
       "      <td>3.77</td>\n",
       "      <td>8.45</td>\n",
       "      <td>82.53</td>\n",
       "      <td>76.0</td>\n",
       "      <td>51.0</td>\n",
       "      <td>8</td>\n",
       "      <td>322.0</td>\n",
       "      <td>Nintendo</td>\n",
       "      <td>E</td>\n",
       "    </tr>\n",
       "    <tr>\n",
       "      <th>1</th>\n",
       "      <td>Super Mario Bros.</td>\n",
       "      <td>NES</td>\n",
       "      <td>1985.0</td>\n",
       "      <td>Platform</td>\n",
       "      <td>Nintendo</td>\n",
       "      <td>29.08</td>\n",
       "      <td>3.58</td>\n",
       "      <td>6.81</td>\n",
       "      <td>0.77</td>\n",
       "      <td>40.24</td>\n",
       "      <td>NaN</td>\n",
       "      <td>NaN</td>\n",
       "      <td>NaN</td>\n",
       "      <td>NaN</td>\n",
       "      <td>NaN</td>\n",
       "      <td>NaN</td>\n",
       "    </tr>\n",
       "    <tr>\n",
       "      <th>2</th>\n",
       "      <td>Mario Kart Wii</td>\n",
       "      <td>Wii</td>\n",
       "      <td>2008.0</td>\n",
       "      <td>Racing</td>\n",
       "      <td>Nintendo</td>\n",
       "      <td>15.68</td>\n",
       "      <td>12.76</td>\n",
       "      <td>3.79</td>\n",
       "      <td>3.29</td>\n",
       "      <td>35.52</td>\n",
       "      <td>82.0</td>\n",
       "      <td>73.0</td>\n",
       "      <td>8.3</td>\n",
       "      <td>709.0</td>\n",
       "      <td>Nintendo</td>\n",
       "      <td>E</td>\n",
       "    </tr>\n",
       "    <tr>\n",
       "      <th>3</th>\n",
       "      <td>Wii Sports Resort</td>\n",
       "      <td>Wii</td>\n",
       "      <td>2009.0</td>\n",
       "      <td>Sports</td>\n",
       "      <td>Nintendo</td>\n",
       "      <td>15.61</td>\n",
       "      <td>10.93</td>\n",
       "      <td>3.28</td>\n",
       "      <td>2.95</td>\n",
       "      <td>32.77</td>\n",
       "      <td>80.0</td>\n",
       "      <td>73.0</td>\n",
       "      <td>8</td>\n",
       "      <td>192.0</td>\n",
       "      <td>Nintendo</td>\n",
       "      <td>E</td>\n",
       "    </tr>\n",
       "    <tr>\n",
       "      <th>4</th>\n",
       "      <td>Pokemon Red/Pokemon Blue</td>\n",
       "      <td>GB</td>\n",
       "      <td>1996.0</td>\n",
       "      <td>Role-Playing</td>\n",
       "      <td>Nintendo</td>\n",
       "      <td>11.27</td>\n",
       "      <td>8.89</td>\n",
       "      <td>10.22</td>\n",
       "      <td>1.00</td>\n",
       "      <td>31.37</td>\n",
       "      <td>NaN</td>\n",
       "      <td>NaN</td>\n",
       "      <td>NaN</td>\n",
       "      <td>NaN</td>\n",
       "      <td>NaN</td>\n",
       "      <td>NaN</td>\n",
       "    </tr>\n",
       "  </tbody>\n",
       "</table>\n",
       "</div>"
      ],
      "text/plain": [
       "                       Name Platform  Year_of_Release         Genre Publisher  \\\n",
       "0                Wii Sports      Wii           2006.0        Sports  Nintendo   \n",
       "1         Super Mario Bros.      NES           1985.0      Platform  Nintendo   \n",
       "2            Mario Kart Wii      Wii           2008.0        Racing  Nintendo   \n",
       "3         Wii Sports Resort      Wii           2009.0        Sports  Nintendo   \n",
       "4  Pokemon Red/Pokemon Blue       GB           1996.0  Role-Playing  Nintendo   \n",
       "\n",
       "   NA_Sales  EU_Sales  JP_Sales  Other_Sales  Global_Sales  Critic_Score  \\\n",
       "0     41.36     28.96      3.77         8.45         82.53          76.0   \n",
       "1     29.08      3.58      6.81         0.77         40.24           NaN   \n",
       "2     15.68     12.76      3.79         3.29         35.52          82.0   \n",
       "3     15.61     10.93      3.28         2.95         32.77          80.0   \n",
       "4     11.27      8.89     10.22         1.00         31.37           NaN   \n",
       "\n",
       "   Critic_Count User_Score  User_Count Developer Rating  \n",
       "0          51.0          8       322.0  Nintendo      E  \n",
       "1           NaN        NaN         NaN       NaN    NaN  \n",
       "2          73.0        8.3       709.0  Nintendo      E  \n",
       "3          73.0          8       192.0  Nintendo      E  \n",
       "4           NaN        NaN         NaN       NaN    NaN  "
      ]
     },
     "execution_count": 4,
     "metadata": {},
     "output_type": "execute_result"
    }
   ],
   "source": [
    "df.head()"
   ]
  },
  {
   "cell_type": "markdown",
   "id": "0fc825b2",
   "metadata": {},
   "source": [
    "Next we're going to do some linear regression. Focousing on how critic scores and sales within a region correalte with user score\n"
   ]
  },
  {
   "cell_type": "code",
   "execution_count": 17,
   "id": "bafe989f",
   "metadata": {},
   "outputs": [
    {
     "name": "stdout",
     "output_type": "stream",
     "text": [
      "                    Name Platform  Year_of_Release     Genre Publisher  \\\n",
      "0             Wii Sports      Wii           2006.0    Sports  Nintendo   \n",
      "2         Mario Kart Wii      Wii           2008.0    Racing  Nintendo   \n",
      "3      Wii Sports Resort      Wii           2009.0    Sports  Nintendo   \n",
      "6  New Super Mario Bros.       DS           2006.0  Platform  Nintendo   \n",
      "7               Wii Play      Wii           2006.0      Misc  Nintendo   \n",
      "\n",
      "   NA_Sales  EU_Sales  JP_Sales  Other_Sales  Global_Sales  Critic_Score  \\\n",
      "0     41.36     28.96      3.77         8.45         82.53          76.0   \n",
      "2     15.68     12.76      3.79         3.29         35.52          82.0   \n",
      "3     15.61     10.93      3.28         2.95         32.77          80.0   \n",
      "6     11.28      9.14      6.50         2.88         29.80          89.0   \n",
      "7     13.96      9.18      2.93         2.84         28.92          58.0   \n",
      "\n",
      "   Critic_Count User_Score  User_Count Developer Rating  \n",
      "0          51.0          8       322.0  Nintendo      E  \n",
      "2          73.0        8.3       709.0  Nintendo      E  \n",
      "3          73.0          8       192.0  Nintendo      E  \n",
      "6          65.0        8.5       431.0  Nintendo      E  \n",
      "7          41.0        6.6       129.0  Nintendo      E  \n"
     ]
    }
   ],
   "source": [
    "df_complete = df.dropna(axis=0, how='any')\n",
    "print(df_complete.head())"
   ]
  },
  {
   "cell_type": "markdown",
   "id": "3399e029",
   "metadata": {},
   "source": [
    "We have to clean the data first otherwise we will run into errors"
   ]
  },
  {
   "cell_type": "code",
   "execution_count": 94,
   "id": "c1c22ca4",
   "metadata": {},
   "outputs": [
    {
     "name": "stdout",
     "output_type": "stream",
     "text": [
      "Here are the features (X):\n",
      "   Critic_Score  NA_Sales\n",
      "0          76.0     41.36\n",
      "2          82.0     15.68\n",
      "3          80.0     15.61\n",
      "6          89.0     11.28\n",
      "7          58.0     13.96\n",
      "Here is the outcome variable (y):\n",
      "0          8\n",
      "2        8.3\n",
      "3          8\n",
      "6        8.5\n",
      "7        6.6\n",
      "        ... \n",
      "16667    2.4\n",
      "16677    8.8\n",
      "16696    7.6\n",
      "16700    5.8\n",
      "16706    7.2\n",
      "Name: User_Score, Length: 6825, dtype: object\n"
     ]
    }
   ],
   "source": [
    "#Na Sales Prediction\n",
    "\n",
    "X = df_complete[['Critic_Score','NA_Sales']]\n",
    "print(\"Here are the features (X):\")\n",
    "print(X.head())\n",
    "print(\"Here is the outcome variable (y):\")\n",
    "y = df_complete['User_Score']\n",
    "print(y)"
   ]
  },
  {
   "cell_type": "code",
   "execution_count": 95,
   "id": "84cde467",
   "metadata": {},
   "outputs": [],
   "source": [
    "X_train = X[0:30]\n",
    "X_test = X[30:60]\n",
    "\n",
    "y_train = y[0:30]\n",
    "y_test = y[30:60]"
   ]
  },
  {
   "cell_type": "markdown",
   "id": "75e0b0a4",
   "metadata": {},
   "source": [
    "I got rid of the all the other sales values beside NA as well as feature that was a string such as genre,name etc.."
   ]
  },
  {
   "cell_type": "code",
   "execution_count": 97,
   "id": "bd5df14b",
   "metadata": {},
   "outputs": [],
   "source": [
    "lm = linear_model.LinearRegression()"
   ]
  },
  {
   "cell_type": "code",
   "execution_count": 98,
   "id": "cc8613d6",
   "metadata": {},
   "outputs": [
    {
     "data": {
      "text/plain": [
       "LinearRegression()"
      ]
     },
     "execution_count": 98,
     "metadata": {},
     "output_type": "execute_result"
    }
   ],
   "source": [
    "lm.fit(X_train, y_train)"
   ]
  },
  {
   "cell_type": "code",
   "execution_count": 99,
   "id": "77707f74",
   "metadata": {},
   "outputs": [
    {
     "name": "stdout",
     "output_type": "stream",
     "text": [
      "[0.0541772  0.04812815]\n",
      "2.2528141439035476\n"
     ]
    }
   ],
   "source": [
    "print(lm.coef_)\n",
    "print(lm.intercept_)"
   ]
  },
  {
   "cell_type": "code",
   "execution_count": 100,
   "id": "043c8ace",
   "metadata": {},
   "outputs": [
    {
     "data": {
      "image/png": "[encoded data removed]",
      "text/plain": [
       "<Figure size 640x480 with 1 Axes>"
      ]
     },
     "metadata": {},
     "output_type": "display_data"
    }
   ],
   "source": [
    "preds = lm.predict(X_test)\n",
    "\n",
    "plt.figure()\n",
    "plt.scatter(y_test, preds)\n",
    "plt.xlabel('actual score rating')\n",
    "plt.ylabel('predicted score rating')\n",
    "plt.show()"
   ]
  },
  {
   "cell_type": "code",
   "execution_count": 124,
   "id": "a913a537",
   "metadata": {},
   "outputs": [
    {
     "name": "stdout",
     "output_type": "stream",
     "text": [
      "Here are the features (X):\n",
      "   Critic_Score  EU_Sales\n",
      "0          76.0     28.96\n",
      "2          82.0     12.76\n",
      "3          80.0     10.93\n",
      "6          89.0      9.14\n",
      "7          58.0      9.18\n",
      "Here is the outcome variable (y):\n",
      "0          8\n",
      "2        8.3\n",
      "3          8\n",
      "6        8.5\n",
      "7        6.6\n",
      "        ... \n",
      "16667    2.4\n",
      "16677    8.8\n",
      "16696    7.6\n",
      "16700    5.8\n",
      "16706    7.2\n",
      "Name: User_Score, Length: 6825, dtype: object\n"
     ]
    }
   ],
   "source": [
    "#EU Sales Prediction\n",
    "\n",
    "X = df_complete[['Critic_Score','EU_Sales']]\n",
    "print(\"Here are the features (X):\")\n",
    "print(X.head())\n",
    "print(\"Here is the outcome variable (y):\")\n",
    "y2 = df_complete['User_Score']\n",
    "print(y)"
   ]
  },
  {
   "cell_type": "code",
   "execution_count": 125,
   "id": "54d5455f",
   "metadata": {},
   "outputs": [],
   "source": [
    "X_train = X[0:30]\n",
    "X_test = X[30:60]\n",
    "\n",
    "y2_train = y[0:30]\n",
    "y2_test = y[30:60]"
   ]
  },
  {
   "cell_type": "code",
   "execution_count": 126,
   "id": "8231bb8d",
   "metadata": {},
   "outputs": [],
   "source": [
    "lm = linear_model.LinearRegression()"
   ]
  },
  {
   "cell_type": "code",
   "execution_count": 127,
   "id": "9a45e1e9",
   "metadata": {},
   "outputs": [
    {
     "data": {
      "text/plain": [
       "LinearRegression()"
      ]
     },
     "execution_count": 127,
     "metadata": {},
     "output_type": "execute_result"
    }
   ],
   "source": [
    "lm.fit(X_train, y2_train)"
   ]
  },
  {
   "cell_type": "code",
   "execution_count": 128,
   "id": "99af7bbe",
   "metadata": {},
   "outputs": [
    {
     "name": "stdout",
     "output_type": "stream",
     "text": [
      "[0.05625866 0.07950175]\n",
      "2.0036927763564307\n"
     ]
    }
   ],
   "source": [
    "print(lm.coef_)\n",
    "print(lm.intercept_)"
   ]
  },
  {
   "cell_type": "code",
   "execution_count": 129,
   "id": "d70caa9b",
   "metadata": {},
   "outputs": [
    {
     "data": {
      "image/png": "[encoded data removed]",
      "text/plain": [
       "<Figure size 640x480 with 1 Axes>"
      ]
     },
     "metadata": {},
     "output_type": "display_data"
    }
   ],
   "source": [
    "preds = lm.predict(X_test)\n",
    "\n",
    "plt.figure()\n",
    "plt.scatter(y2_test, preds)\n",
    "plt.xlabel('actual score rating')\n",
    "plt.ylabel('predicted score rating')\n",
    "plt.show()"
   ]
  },
  {
   "cell_type": "code",
   "execution_count": null,
   "id": "9eae3324",
   "metadata": {},
   "outputs": [],
   "source": [
    "#Jp Sales Prediction\n",
    "\n",
    "X = df_complete[['Critic_Score','JP_Sales']]\n",
    "print(\"Here are the features (X):\")\n",
    "print(X.head())\n",
    "print(\"Here is the outcome variable (y):\")\n",
    "y = df_complete['User_Score']\n",
    "print(y)"
   ]
  },
  {
   "cell_type": "code",
   "execution_count": 108,
   "id": "b4c58050",
   "metadata": {},
   "outputs": [],
   "source": [
    "X_train = X[0:30]\n",
    "X_test = X[30:60]\n",
    "\n",
    "y_train = y[0:30]\n",
    "y_test = y[30:60]"
   ]
  },
  {
   "cell_type": "code",
   "execution_count": null,
   "id": "9247ca53",
   "metadata": {},
   "outputs": [],
   "source": [
    "lm = linear_model.LinearRegression()"
   ]
  },
  {
   "cell_type": "code",
   "execution_count": null,
   "id": "6b380995",
   "metadata": {},
   "outputs": [],
   "source": [
    "lm.fit(X_train, y_train)"
   ]
  },
  {
   "cell_type": "code",
   "execution_count": 109,
   "id": "5b58d87f",
   "metadata": {},
   "outputs": [
    {
     "name": "stdout",
     "output_type": "stream",
     "text": [
      "[0.05625866 0.07950175]\n",
      "2.0036927763564307\n"
     ]
    }
   ],
   "source": [
    "print(lm.coef_)\n",
    "print(lm.intercept_)"
   ]
  },
  {
   "cell_type": "code",
   "execution_count": 110,
   "id": "717bf6d0",
   "metadata": {},
   "outputs": [
    {
     "data": {
      "image/png": "[encoded data removed]",
      "text/plain": [
       "<Figure size 640x480 with 1 Axes>"
      ]
     },
     "metadata": {},
     "output_type": "display_data"
    }
   ],
   "source": [
    "preds = lm.predict(X_test)\n",
    "\n",
    "plt.figure()\n",
    "plt.scatter(y_test, preds)\n",
    "plt.xlabel('actual score rating')\n",
    "plt.ylabel('predicted score rating')\n",
    "plt.show()"
   ]
  },
  {
   "cell_type": "markdown",
   "id": "041b22da",
   "metadata": {},
   "source": [
    "The first thing I want to say is unfortauntely I was not able to find the mse scores due to a python error which I was unable to fix.\n",
    "\n",
    "However a common trend between all 3 regions is the the sales of game in a region and crictic score don't have the strongest correaltion with the score rating of a user or the player. \n",
    "\n",
    "This would make sense as a gamer who wants to buy a game is not concerned with how well the game is doing sales wise and cares even less about a critic's score rating "
   ]
  },
  {
   "cell_type": "markdown",
   "id": "bdf8161a",
   "metadata": {},
   "source": [
    "For the final part of the project, I will add a different dataset which is a dataset based on metacritic. Metacritic is a website where users can rate games and leave comments about it .\n",
    "\n",
    "This will give us a better insight on user ratings on games"
   ]
  },
  {
   "cell_type": "code",
   "execution_count": 141,
   "id": "61e8cea8",
   "metadata": {},
   "outputs": [
    {
     "data": {
      "text/html": [
       "<div>\n",
       "<style scoped>\n",
       "    .dataframe tbody tr th:only-of-type {\n",
       "        vertical-align: middle;\n",
       "    }\n",
       "\n",
       "    .dataframe tbody tr th {\n",
       "        vertical-align: top;\n",
       "    }\n",
       "\n",
       "    .dataframe thead th {\n",
       "        text-align: right;\n",
       "    }\n",
       "</style>\n",
       "<table border=\"1\" class=\"dataframe\">\n",
       "  <thead>\n",
       "    <tr style=\"text-align: right;\">\n",
       "      <th></th>\n",
       "      <th>Unnamed: 0</th>\n",
       "      <th>Title</th>\n",
       "      <th>Year</th>\n",
       "      <th>Publisher</th>\n",
       "      <th>Genre</th>\n",
       "      <th>Platform</th>\n",
       "      <th>Metascore</th>\n",
       "      <th>Avg_Userscore</th>\n",
       "      <th>No_Players</th>\n",
       "    </tr>\n",
       "  </thead>\n",
       "  <tbody>\n",
       "    <tr>\n",
       "      <th>0</th>\n",
       "      <td>0</td>\n",
       "      <td>The Legend of Zelda: Ocarina of Time</td>\n",
       "      <td>1998</td>\n",
       "      <td>Nintendo</td>\n",
       "      <td>Action Adventure;Fantasy</td>\n",
       "      <td>Nintendo64</td>\n",
       "      <td>99</td>\n",
       "      <td>9.1</td>\n",
       "      <td>1 Player</td>\n",
       "    </tr>\n",
       "    <tr>\n",
       "      <th>1</th>\n",
       "      <td>1</td>\n",
       "      <td>Tony Hawk's Pro Skater 2</td>\n",
       "      <td>2000</td>\n",
       "      <td>NeversoftEntertainment</td>\n",
       "      <td>Sports;Alternative;Skateboarding</td>\n",
       "      <td>PlayStation</td>\n",
       "      <td>98</td>\n",
       "      <td>7.4</td>\n",
       "      <td>1-2</td>\n",
       "    </tr>\n",
       "    <tr>\n",
       "      <th>2</th>\n",
       "      <td>2</td>\n",
       "      <td>Grand Theft Auto IV</td>\n",
       "      <td>2008</td>\n",
       "      <td>RockstarNorth</td>\n",
       "      <td>Action Adventure;Modern;Modern;Open-World</td>\n",
       "      <td>PlayStation3</td>\n",
       "      <td>98</td>\n",
       "      <td>7.5</td>\n",
       "      <td>1 Player</td>\n",
       "    </tr>\n",
       "    <tr>\n",
       "      <th>3</th>\n",
       "      <td>3</td>\n",
       "      <td>SoulCalibur</td>\n",
       "      <td>1999</td>\n",
       "      <td>Namco</td>\n",
       "      <td>Action;Fighting;3D</td>\n",
       "      <td>Dreamcast</td>\n",
       "      <td>98</td>\n",
       "      <td>8.6</td>\n",
       "      <td>1-2</td>\n",
       "    </tr>\n",
       "    <tr>\n",
       "      <th>4</th>\n",
       "      <td>4</td>\n",
       "      <td>Grand Theft Auto IV</td>\n",
       "      <td>2008</td>\n",
       "      <td>RockstarNorth</td>\n",
       "      <td>Action Adventure;Modern;Modern;Open-World</td>\n",
       "      <td>Xbox360</td>\n",
       "      <td>98</td>\n",
       "      <td>7.9</td>\n",
       "      <td>1 Player</td>\n",
       "    </tr>\n",
       "  </tbody>\n",
       "</table>\n",
       "</div>"
      ],
      "text/plain": [
       "   Unnamed: 0                                 Title  Year  \\\n",
       "0           0  The Legend of Zelda: Ocarina of Time  1998   \n",
       "1           1              Tony Hawk's Pro Skater 2  2000   \n",
       "2           2                   Grand Theft Auto IV  2008   \n",
       "3           3                           SoulCalibur  1999   \n",
       "4           4                   Grand Theft Auto IV  2008   \n",
       "\n",
       "                Publisher                                      Genre  \\\n",
       "0                Nintendo                   Action Adventure;Fantasy   \n",
       "1  NeversoftEntertainment           Sports;Alternative;Skateboarding   \n",
       "2           RockstarNorth  Action Adventure;Modern;Modern;Open-World   \n",
       "3                   Namco                         Action;Fighting;3D   \n",
       "4           RockstarNorth  Action Adventure;Modern;Modern;Open-World   \n",
       "\n",
       "       Platform Metascore Avg_Userscore No_Players  \n",
       "0    Nintendo64        99           9.1   1 Player  \n",
       "1   PlayStation        98           7.4       1-2   \n",
       "2  PlayStation3        98           7.5   1 Player  \n",
       "3     Dreamcast        98           8.6       1-2   \n",
       "4       Xbox360        98           7.9   1 Player  "
      ]
     },
     "execution_count": 141,
     "metadata": {},
     "output_type": "execute_result"
    }
   ],
   "source": [
    "df2 = pd.read_csv('metacritic_game_info.csv')\n",
    "df2.head()"
   ]
  },
  {
   "cell_type": "markdown",
   "id": "0759f632",
   "metadata": {},
   "source": [
    "We will do a inner join using the complete dataframe and the metascore dataframe"
   ]
  },
  {
   "cell_type": "code",
   "execution_count": 169,
   "id": "81d25d1d",
   "metadata": {},
   "outputs": [
    {
     "data": {
      "text/html": [
       "<div>\n",
       "<style scoped>\n",
       "    .dataframe tbody tr th:only-of-type {\n",
       "        vertical-align: middle;\n",
       "    }\n",
       "\n",
       "    .dataframe tbody tr th {\n",
       "        vertical-align: top;\n",
       "    }\n",
       "\n",
       "    .dataframe thead th {\n",
       "        text-align: right;\n",
       "    }\n",
       "</style>\n",
       "<table border=\"1\" class=\"dataframe\">\n",
       "  <thead>\n",
       "    <tr style=\"text-align: right;\">\n",
       "      <th></th>\n",
       "      <th>Name</th>\n",
       "      <th>Platform_x</th>\n",
       "      <th>Year_of_Release</th>\n",
       "      <th>Genre_x</th>\n",
       "      <th>Publisher_x</th>\n",
       "      <th>NA_Sales</th>\n",
       "      <th>EU_Sales</th>\n",
       "      <th>JP_Sales</th>\n",
       "      <th>Other_Sales</th>\n",
       "      <th>Global_Sales</th>\n",
       "      <th>...</th>\n",
       "      <th>Critic_Count</th>\n",
       "      <th>User_Score</th>\n",
       "      <th>User_Count</th>\n",
       "      <th>Developer</th>\n",
       "      <th>Rating</th>\n",
       "      <th>Unnamed: 0</th>\n",
       "      <th>Year</th>\n",
       "      <th>Metascore</th>\n",
       "      <th>Avg_Userscore</th>\n",
       "      <th>No_Players</th>\n",
       "    </tr>\n",
       "  </thead>\n",
       "  <tbody>\n",
       "    <tr>\n",
       "      <th>0</th>\n",
       "      <td>Mario Kart Wii</td>\n",
       "      <td>Wii</td>\n",
       "      <td>2008.0</td>\n",
       "      <td>Racing</td>\n",
       "      <td>Nintendo</td>\n",
       "      <td>15.68</td>\n",
       "      <td>12.76</td>\n",
       "      <td>3.79</td>\n",
       "      <td>3.29</td>\n",
       "      <td>35.52</td>\n",
       "      <td>...</td>\n",
       "      <td>73.0</td>\n",
       "      <td>8.3</td>\n",
       "      <td>709.0</td>\n",
       "      <td>Nintendo</td>\n",
       "      <td>E</td>\n",
       "      <td>2668</td>\n",
       "      <td>2008</td>\n",
       "      <td>82</td>\n",
       "      <td>8.3</td>\n",
       "      <td>Up to 12</td>\n",
       "    </tr>\n",
       "    <tr>\n",
       "      <th>1</th>\n",
       "      <td>Wii Sports Resort</td>\n",
       "      <td>Wii</td>\n",
       "      <td>2009.0</td>\n",
       "      <td>Sports</td>\n",
       "      <td>Nintendo</td>\n",
       "      <td>15.61</td>\n",
       "      <td>10.93</td>\n",
       "      <td>3.28</td>\n",
       "      <td>2.95</td>\n",
       "      <td>32.77</td>\n",
       "      <td>...</td>\n",
       "      <td>73.0</td>\n",
       "      <td>8</td>\n",
       "      <td>192.0</td>\n",
       "      <td>Nintendo</td>\n",
       "      <td>E</td>\n",
       "      <td>3421</td>\n",
       "      <td>2009</td>\n",
       "      <td>80</td>\n",
       "      <td>8.0</td>\n",
       "      <td>1-4</td>\n",
       "    </tr>\n",
       "    <tr>\n",
       "      <th>2</th>\n",
       "      <td>New Super Mario Bros.</td>\n",
       "      <td>DS</td>\n",
       "      <td>2006.0</td>\n",
       "      <td>Platform</td>\n",
       "      <td>Nintendo</td>\n",
       "      <td>11.28</td>\n",
       "      <td>9.14</td>\n",
       "      <td>6.50</td>\n",
       "      <td>2.88</td>\n",
       "      <td>29.80</td>\n",
       "      <td>...</td>\n",
       "      <td>65.0</td>\n",
       "      <td>8.5</td>\n",
       "      <td>431.0</td>\n",
       "      <td>Nintendo</td>\n",
       "      <td>E</td>\n",
       "      <td>627</td>\n",
       "      <td>2006</td>\n",
       "      <td>89</td>\n",
       "      <td>8.6</td>\n",
       "      <td>No Online Multiplayer</td>\n",
       "    </tr>\n",
       "    <tr>\n",
       "      <th>3</th>\n",
       "      <td>New Super Mario Bros. Wii</td>\n",
       "      <td>Wii</td>\n",
       "      <td>2009.0</td>\n",
       "      <td>Platform</td>\n",
       "      <td>Nintendo</td>\n",
       "      <td>14.44</td>\n",
       "      <td>6.94</td>\n",
       "      <td>4.70</td>\n",
       "      <td>2.24</td>\n",
       "      <td>28.32</td>\n",
       "      <td>...</td>\n",
       "      <td>80.0</td>\n",
       "      <td>8.4</td>\n",
       "      <td>594.0</td>\n",
       "      <td>Nintendo</td>\n",
       "      <td>E</td>\n",
       "      <td>941</td>\n",
       "      <td>2009</td>\n",
       "      <td>87</td>\n",
       "      <td>8.4</td>\n",
       "      <td>No Online Multiplayer</td>\n",
       "    </tr>\n",
       "    <tr>\n",
       "      <th>4</th>\n",
       "      <td>Mario Kart DS</td>\n",
       "      <td>DS</td>\n",
       "      <td>2005.0</td>\n",
       "      <td>Racing</td>\n",
       "      <td>Nintendo</td>\n",
       "      <td>9.71</td>\n",
       "      <td>7.47</td>\n",
       "      <td>4.13</td>\n",
       "      <td>1.90</td>\n",
       "      <td>23.21</td>\n",
       "      <td>...</td>\n",
       "      <td>64.0</td>\n",
       "      <td>8.6</td>\n",
       "      <td>464.0</td>\n",
       "      <td>Nintendo</td>\n",
       "      <td>E</td>\n",
       "      <td>350</td>\n",
       "      <td>2005</td>\n",
       "      <td>91</td>\n",
       "      <td>8.6</td>\n",
       "      <td>4  Online</td>\n",
       "    </tr>\n",
       "    <tr>\n",
       "      <th>...</th>\n",
       "      <td>...</td>\n",
       "      <td>...</td>\n",
       "      <td>...</td>\n",
       "      <td>...</td>\n",
       "      <td>...</td>\n",
       "      <td>...</td>\n",
       "      <td>...</td>\n",
       "      <td>...</td>\n",
       "      <td>...</td>\n",
       "      <td>...</td>\n",
       "      <td>...</td>\n",
       "      <td>...</td>\n",
       "      <td>...</td>\n",
       "      <td>...</td>\n",
       "      <td>...</td>\n",
       "      <td>...</td>\n",
       "      <td>...</td>\n",
       "      <td>...</td>\n",
       "      <td>...</td>\n",
       "      <td>...</td>\n",
       "      <td>...</td>\n",
       "    </tr>\n",
       "    <tr>\n",
       "      <th>5526</th>\n",
       "      <td>Wade Hixton's Counter Punch</td>\n",
       "      <td>GBA</td>\n",
       "      <td>2004.0</td>\n",
       "      <td>Sports</td>\n",
       "      <td>Destination Software, Inc</td>\n",
       "      <td>0.01</td>\n",
       "      <td>0.00</td>\n",
       "      <td>0.00</td>\n",
       "      <td>0.00</td>\n",
       "      <td>0.01</td>\n",
       "      <td>...</td>\n",
       "      <td>13.0</td>\n",
       "      <td>9.5</td>\n",
       "      <td>4.0</td>\n",
       "      <td>Inferno Games</td>\n",
       "      <td>T</td>\n",
       "      <td>4357</td>\n",
       "      <td>2004</td>\n",
       "      <td>78</td>\n",
       "      <td>7.8</td>\n",
       "      <td>1 Player</td>\n",
       "    </tr>\n",
       "    <tr>\n",
       "      <th>5527</th>\n",
       "      <td>King's Bounty: Armored Princess</td>\n",
       "      <td>PC</td>\n",
       "      <td>2009.0</td>\n",
       "      <td>Role-Playing</td>\n",
       "      <td>1C Company</td>\n",
       "      <td>0.00</td>\n",
       "      <td>0.01</td>\n",
       "      <td>0.00</td>\n",
       "      <td>0.00</td>\n",
       "      <td>0.01</td>\n",
       "      <td>...</td>\n",
       "      <td>25.0</td>\n",
       "      <td>8.6</td>\n",
       "      <td>158.0</td>\n",
       "      <td>Katauri Interactive</td>\n",
       "      <td>T</td>\n",
       "      <td>2753</td>\n",
       "      <td>2009</td>\n",
       "      <td>82</td>\n",
       "      <td>8.6</td>\n",
       "      <td>not specified</td>\n",
       "    </tr>\n",
       "    <tr>\n",
       "      <th>5528</th>\n",
       "      <td>Trine</td>\n",
       "      <td>PC</td>\n",
       "      <td>2009.0</td>\n",
       "      <td>Action</td>\n",
       "      <td>Nobilis</td>\n",
       "      <td>0.00</td>\n",
       "      <td>0.01</td>\n",
       "      <td>0.00</td>\n",
       "      <td>0.00</td>\n",
       "      <td>0.01</td>\n",
       "      <td>...</td>\n",
       "      <td>50.0</td>\n",
       "      <td>8.2</td>\n",
       "      <td>488.0</td>\n",
       "      <td>Frozenbyte, Inc.</td>\n",
       "      <td>E10+</td>\n",
       "      <td>2224</td>\n",
       "      <td>2009</td>\n",
       "      <td>83</td>\n",
       "      <td>8.0</td>\n",
       "      <td>1-3</td>\n",
       "    </tr>\n",
       "    <tr>\n",
       "      <th>5529</th>\n",
       "      <td>Trine</td>\n",
       "      <td>PC</td>\n",
       "      <td>2009.0</td>\n",
       "      <td>Action</td>\n",
       "      <td>Nobilis</td>\n",
       "      <td>0.00</td>\n",
       "      <td>0.01</td>\n",
       "      <td>0.00</td>\n",
       "      <td>0.00</td>\n",
       "      <td>0.01</td>\n",
       "      <td>...</td>\n",
       "      <td>50.0</td>\n",
       "      <td>8.2</td>\n",
       "      <td>488.0</td>\n",
       "      <td>Frozenbyte, Inc.</td>\n",
       "      <td>E10+</td>\n",
       "      <td>3528</td>\n",
       "      <td>2009</td>\n",
       "      <td>80</td>\n",
       "      <td>8.2</td>\n",
       "      <td>1-3</td>\n",
       "    </tr>\n",
       "    <tr>\n",
       "      <th>5530</th>\n",
       "      <td>Karnaaj Rally</td>\n",
       "      <td>GBA</td>\n",
       "      <td>2003.0</td>\n",
       "      <td>Racing</td>\n",
       "      <td>Jaleco</td>\n",
       "      <td>0.01</td>\n",
       "      <td>0.00</td>\n",
       "      <td>0.00</td>\n",
       "      <td>0.00</td>\n",
       "      <td>0.01</td>\n",
       "      <td>...</td>\n",
       "      <td>9.0</td>\n",
       "      <td>9.5</td>\n",
       "      <td>4.0</td>\n",
       "      <td>Infinite Dreams, Paragon 5</td>\n",
       "      <td>E</td>\n",
       "      <td>3076</td>\n",
       "      <td>2003</td>\n",
       "      <td>81</td>\n",
       "      <td>7.6</td>\n",
       "      <td>1-4</td>\n",
       "    </tr>\n",
       "  </tbody>\n",
       "</table>\n",
       "<p>5531 rows × 21 columns</p>\n",
       "</div>"
      ],
      "text/plain": [
       "                                 Name Platform_x  Year_of_Release  \\\n",
       "0                      Mario Kart Wii        Wii           2008.0   \n",
       "1                   Wii Sports Resort        Wii           2009.0   \n",
       "2               New Super Mario Bros.         DS           2006.0   \n",
       "3           New Super Mario Bros. Wii        Wii           2009.0   \n",
       "4                       Mario Kart DS         DS           2005.0   \n",
       "...                               ...        ...              ...   \n",
       "5526      Wade Hixton's Counter Punch        GBA           2004.0   \n",
       "5527  King's Bounty: Armored Princess         PC           2009.0   \n",
       "5528                            Trine         PC           2009.0   \n",
       "5529                            Trine         PC           2009.0   \n",
       "5530                    Karnaaj Rally        GBA           2003.0   \n",
       "\n",
       "           Genre_x                Publisher_x  NA_Sales  EU_Sales  JP_Sales  \\\n",
       "0           Racing                   Nintendo     15.68     12.76      3.79   \n",
       "1           Sports                   Nintendo     15.61     10.93      3.28   \n",
       "2         Platform                   Nintendo     11.28      9.14      6.50   \n",
       "3         Platform                   Nintendo     14.44      6.94      4.70   \n",
       "4           Racing                   Nintendo      9.71      7.47      4.13   \n",
       "...            ...                        ...       ...       ...       ...   \n",
       "5526        Sports  Destination Software, Inc      0.01      0.00      0.00   \n",
       "5527  Role-Playing                 1C Company      0.00      0.01      0.00   \n",
       "5528        Action                    Nobilis      0.00      0.01      0.00   \n",
       "5529        Action                    Nobilis      0.00      0.01      0.00   \n",
       "5530        Racing                     Jaleco      0.01      0.00      0.00   \n",
       "\n",
       "      Other_Sales  Global_Sales  ...  Critic_Count  User_Score User_Count  \\\n",
       "0            3.29         35.52  ...          73.0         8.3      709.0   \n",
       "1            2.95         32.77  ...          73.0           8      192.0   \n",
       "2            2.88         29.80  ...          65.0         8.5      431.0   \n",
       "3            2.24         28.32  ...          80.0         8.4      594.0   \n",
       "4            1.90         23.21  ...          64.0         8.6      464.0   \n",
       "...           ...           ...  ...           ...         ...        ...   \n",
       "5526         0.00          0.01  ...          13.0         9.5        4.0   \n",
       "5527         0.00          0.01  ...          25.0         8.6      158.0   \n",
       "5528         0.00          0.01  ...          50.0         8.2      488.0   \n",
       "5529         0.00          0.01  ...          50.0         8.2      488.0   \n",
       "5530         0.00          0.01  ...           9.0         9.5        4.0   \n",
       "\n",
       "                       Developer Rating Unnamed: 0  Year Metascore  \\\n",
       "0                       Nintendo      E       2668  2008        82   \n",
       "1                       Nintendo      E       3421  2009        80   \n",
       "2                       Nintendo      E        627  2006        89   \n",
       "3                       Nintendo      E        941  2009        87   \n",
       "4                       Nintendo      E        350  2005        91   \n",
       "...                          ...    ...        ...   ...       ...   \n",
       "5526               Inferno Games      T       4357  2004        78   \n",
       "5527         Katauri Interactive      T       2753  2009        82   \n",
       "5528            Frozenbyte, Inc.   E10+       2224  2009        83   \n",
       "5529            Frozenbyte, Inc.   E10+       3528  2009        80   \n",
       "5530  Infinite Dreams, Paragon 5      E       3076  2003        81   \n",
       "\n",
       "     Avg_Userscore             No_Players  \n",
       "0              8.3              Up to 12   \n",
       "1              8.0                   1-4   \n",
       "2              8.6  No Online Multiplayer  \n",
       "3              8.4  No Online Multiplayer  \n",
       "4              8.6              4  Online  \n",
       "...            ...                    ...  \n",
       "5526           7.8               1 Player  \n",
       "5527           8.6          not specified  \n",
       "5528           8.0                   1-3   \n",
       "5529           8.2                   1-3   \n",
       "5530           7.6                   1-4   \n",
       "\n",
       "[5531 rows x 21 columns]"
      ]
     },
     "execution_count": 169,
     "metadata": {},
     "output_type": "execute_result"
    }
   ],
   "source": [
    "df_inner = pd.merge(left=df_complete, right=df2, how='inner', left_on='Name', right_on='Title')\n",
    "df_inner\n",
    "\n",
    "df_final = df_inner.drop(['Title','Platform_y','Genre_y','Publisher_y'], axis=1)\n",
    "df_final"
   ]
  },
  {
   "cell_type": "code",
   "execution_count": 174,
   "id": "473d7b3f",
   "metadata": {},
   "outputs": [
    {
     "data": {
      "text/html": [
       "<div>\n",
       "<style scoped>\n",
       "    .dataframe tbody tr th:only-of-type {\n",
       "        vertical-align: middle;\n",
       "    }\n",
       "\n",
       "    .dataframe tbody tr th {\n",
       "        vertical-align: top;\n",
       "    }\n",
       "\n",
       "    .dataframe thead th {\n",
       "        text-align: right;\n",
       "    }\n",
       "</style>\n",
       "<table border=\"1\" class=\"dataframe\">\n",
       "  <thead>\n",
       "    <tr style=\"text-align: right;\">\n",
       "      <th></th>\n",
       "      <th>Name</th>\n",
       "      <th>Global_Sales</th>\n",
       "      <th>Metascore</th>\n",
       "      <th>Developer</th>\n",
       "      <th>User_Score</th>\n",
       "    </tr>\n",
       "  </thead>\n",
       "  <tbody>\n",
       "    <tr>\n",
       "      <th>0</th>\n",
       "      <td>Mario Kart Wii</td>\n",
       "      <td>35.52</td>\n",
       "      <td>82</td>\n",
       "      <td>Nintendo</td>\n",
       "      <td>8.3</td>\n",
       "    </tr>\n",
       "    <tr>\n",
       "      <th>1</th>\n",
       "      <td>Wii Sports Resort</td>\n",
       "      <td>32.77</td>\n",
       "      <td>80</td>\n",
       "      <td>Nintendo</td>\n",
       "      <td>8</td>\n",
       "    </tr>\n",
       "    <tr>\n",
       "      <th>2</th>\n",
       "      <td>New Super Mario Bros.</td>\n",
       "      <td>29.80</td>\n",
       "      <td>89</td>\n",
       "      <td>Nintendo</td>\n",
       "      <td>8.5</td>\n",
       "    </tr>\n",
       "    <tr>\n",
       "      <th>3</th>\n",
       "      <td>New Super Mario Bros. Wii</td>\n",
       "      <td>28.32</td>\n",
       "      <td>87</td>\n",
       "      <td>Nintendo</td>\n",
       "      <td>8.4</td>\n",
       "    </tr>\n",
       "    <tr>\n",
       "      <th>4</th>\n",
       "      <td>Mario Kart DS</td>\n",
       "      <td>23.21</td>\n",
       "      <td>91</td>\n",
       "      <td>Nintendo</td>\n",
       "      <td>8.6</td>\n",
       "    </tr>\n",
       "  </tbody>\n",
       "</table>\n",
       "</div>"
      ],
      "text/plain": [
       "                        Name  Global_Sales Metascore Developer User_Score\n",
       "0             Mario Kart Wii         35.52        82  Nintendo        8.3\n",
       "1          Wii Sports Resort         32.77        80  Nintendo          8\n",
       "2      New Super Mario Bros.         29.80        89  Nintendo        8.5\n",
       "3  New Super Mario Bros. Wii         28.32        87  Nintendo        8.4\n",
       "4              Mario Kart DS         23.21        91  Nintendo        8.6"
      ]
     },
     "execution_count": 174,
     "metadata": {},
     "output_type": "execute_result"
    }
   ],
   "source": [
    "df_met = df_final[['Name','Global_Sales','Metascore','Developer','User_Score']]\n",
    "df_met.head()"
   ]
  },
  {
   "cell_type": "markdown",
   "id": "b4c28fce",
   "metadata": {},
   "source": [
    "Using some of the features I want to look at from the merged dataset.\n",
    "\n",
    "The metascore and userscore do not differ much, at least for the top 5 games "
   ]
  },
  {
   "cell_type": "code",
   "execution_count": 173,
   "id": "b70e20c9",
   "metadata": {},
   "outputs": [
    {
     "data": {
      "text/plain": [
       "<Figure size 640x480 with 0 Axes>"
      ]
     },
     "metadata": {},
     "output_type": "display_data"
    },
    {
     "data": {
      "image/png": "[encoded data removed]",
      "text/plain": [
       "<Figure size 640x480 with 1 Axes>"
      ]
     },
     "metadata": {},
     "output_type": "display_data"
    }
   ],
   "source": [
    "plt.figure()\n",
    "df_met.plot.scatter('Metascore', 'Global_Sales')\n",
    "plt.xlabel('MetaScore')\n",
    "plt.ylabel('Global Sales')\n",
    "plt.show()"
   ]
  },
  {
   "cell_type": "markdown",
   "id": "68aaa69e",
   "metadata": {},
   "source": [
    "First we created a plot showing how meta score and global sales are correatled.\n",
    "\n",
    "Something interesting to note here is the fact that having a high meta score does not neccesarily mean the sales will be higher.\n"
   ]
  },
  {
   "cell_type": "code",
   "execution_count": null,
   "id": "fd80a0d4",
   "metadata": {},
   "outputs": [],
   "source": []
  }
 ],
 "metadata": {
  "kernelspec": {
   "display_name": "Python 3 (ipykernel)",
   "language": "python",
   "name": "python3"
  },
  "language_info": {
   "codemirror_mode": {
    "name": "ipython",
    "version": 3
   },
   "file_extension": ".py",
   "mimetype": "text/x-python",
   "name": "python",
   "nbconvert_exporter": "python",
   "pygments_lexer": "ipython3",
   "version": "3.9.7"
  }
 },
 "nbformat": 4,
 "nbformat_minor": 5
}
